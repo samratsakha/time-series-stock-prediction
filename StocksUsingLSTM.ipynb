{
 "cells": [
  {
   "cell_type": "code",
   "execution_count": 244,
   "metadata": {
    "executionInfo": {
     "elapsed": 451,
     "status": "ok",
     "timestamp": 1624383257908,
     "user": {
      "displayName": "Samrat Sakha",
      "photoUrl": "https://lh3.googleusercontent.com/a-/AOh14Giiw1rlsPx9M4hxGcoo12T-By_nflI_OdqNAeft5w=s64",
      "userId": "03047842225086067672"
     },
     "user_tz": -330
    },
    "id": "74rTWjb9TIpS"
   },
   "outputs": [],
   "source": [
    "import numpy as np\n",
    "from tensorflow.keras.models import Sequential\n",
    "from tensorflow.keras.layers import LSTM\n",
    "from tensorflow.keras.layers import Dense\n",
    "from tensorflow.keras.layers import Flatten\n",
    "import pandas as pd\n",
    "import matplotlib.pyplot as plt"
   ]
  },
  {
   "cell_type": "code",
   "execution_count": 175,
   "metadata": {
    "executionInfo": {
     "elapsed": 568,
     "status": "ok",
     "timestamp": 1624382135587,
     "user": {
      "displayName": "Samrat Sakha",
      "photoUrl": "https://lh3.googleusercontent.com/a-/AOh14Giiw1rlsPx9M4hxGcoo12T-By_nflI_OdqNAeft5w=s64",
      "userId": "03047842225086067672"
     },
     "user_tz": -330
    },
    "id": "_jRYZRzwtesb"
   },
   "outputs": [],
   "source": [
    "import yfinance as yf\n",
    "import datetime \n",
    "start = datetime.datetime(2020,6,21) \n",
    "end = datetime.datetime(2021,6,21) \n",
    "Amazon = yf.Ticker(\"TCS.NS\") \n",
    "df = Amazon.history(start=start, end=end)"
   ]
  },
  {
   "cell_type": "code",
   "execution_count": 176,
   "metadata": {
    "colab": {
     "base_uri": "https://localhost:8080/",
     "height": 236
    },
    "executionInfo": {
     "elapsed": 471,
     "status": "ok",
     "timestamp": 1624382139495,
     "user": {
      "displayName": "Samrat Sakha",
      "photoUrl": "https://lh3.googleusercontent.com/a-/AOh14Giiw1rlsPx9M4hxGcoo12T-By_nflI_OdqNAeft5w=s64",
      "userId": "03047842225086067672"
     },
     "user_tz": -330
    },
    "id": "Xs4sf8I3WIdB",
    "outputId": "0360245a-9ba8-4f77-c2d2-567bf889ca08"
   },
   "outputs": [
    {
     "data": {
      "text/html": [
       "<div>\n",
       "<style scoped>\n",
       "    .dataframe tbody tr th:only-of-type {\n",
       "        vertical-align: middle;\n",
       "    }\n",
       "\n",
       "    .dataframe tbody tr th {\n",
       "        vertical-align: top;\n",
       "    }\n",
       "\n",
       "    .dataframe thead th {\n",
       "        text-align: right;\n",
       "    }\n",
       "</style>\n",
       "<table border=\"1\" class=\"dataframe\">\n",
       "  <thead>\n",
       "    <tr style=\"text-align: right;\">\n",
       "      <th></th>\n",
       "      <th>Open</th>\n",
       "      <th>High</th>\n",
       "      <th>Low</th>\n",
       "      <th>Close</th>\n",
       "      <th>Volume</th>\n",
       "      <th>Dividends</th>\n",
       "      <th>Stock Splits</th>\n",
       "    </tr>\n",
       "    <tr>\n",
       "      <th>Date</th>\n",
       "      <th></th>\n",
       "      <th></th>\n",
       "      <th></th>\n",
       "      <th></th>\n",
       "      <th></th>\n",
       "      <th></th>\n",
       "      <th></th>\n",
       "    </tr>\n",
       "  </thead>\n",
       "  <tbody>\n",
       "    <tr>\n",
       "      <th>2020-06-22</th>\n",
       "      <td>2022.964205</td>\n",
       "      <td>2025.184531</td>\n",
       "      <td>1992.521084</td>\n",
       "      <td>2001.204956</td>\n",
       "      <td>3196138</td>\n",
       "      <td>0.0</td>\n",
       "      <td>0</td>\n",
       "    </tr>\n",
       "    <tr>\n",
       "      <th>2020-06-23</th>\n",
       "      <td>2000.267301</td>\n",
       "      <td>2017.043099</td>\n",
       "      <td>1983.491502</td>\n",
       "      <td>2008.457886</td>\n",
       "      <td>4205944</td>\n",
       "      <td>0.0</td>\n",
       "      <td>0</td>\n",
       "    </tr>\n",
       "    <tr>\n",
       "      <th>2020-06-24</th>\n",
       "      <td>2007.175038</td>\n",
       "      <td>2037.026092</td>\n",
       "      <td>2004.806666</td>\n",
       "      <td>2015.266846</td>\n",
       "      <td>2560937</td>\n",
       "      <td>0.0</td>\n",
       "      <td>0</td>\n",
       "    </tr>\n",
       "    <tr>\n",
       "      <th>2020-06-25</th>\n",
       "      <td>2008.161874</td>\n",
       "      <td>2032.832168</td>\n",
       "      <td>1982.751472</td>\n",
       "      <td>1989.511108</td>\n",
       "      <td>3043931</td>\n",
       "      <td>0.0</td>\n",
       "      <td>0</td>\n",
       "    </tr>\n",
       "    <tr>\n",
       "      <th>2020-06-26</th>\n",
       "      <td>1998.293634</td>\n",
       "      <td>2103.882483</td>\n",
       "      <td>1993.310187</td>\n",
       "      <td>2090.906006</td>\n",
       "      <td>6300722</td>\n",
       "      <td>0.0</td>\n",
       "      <td>0</td>\n",
       "    </tr>\n",
       "  </tbody>\n",
       "</table>\n",
       "</div>"
      ],
      "text/plain": [
       "                   Open         High  ...  Dividends  Stock Splits\n",
       "Date                                  ...                         \n",
       "2020-06-22  2022.964205  2025.184531  ...        0.0             0\n",
       "2020-06-23  2000.267301  2017.043099  ...        0.0             0\n",
       "2020-06-24  2007.175038  2037.026092  ...        0.0             0\n",
       "2020-06-25  2008.161874  2032.832168  ...        0.0             0\n",
       "2020-06-26  1998.293634  2103.882483  ...        0.0             0\n",
       "\n",
       "[5 rows x 7 columns]"
      ]
     },
     "execution_count": 176,
     "metadata": {
      "tags": []
     },
     "output_type": "execute_result"
    }
   ],
   "source": [
    "df.head()"
   ]
  },
  {
   "cell_type": "code",
   "execution_count": 177,
   "metadata": {
    "colab": {
     "base_uri": "https://localhost:8080/"
    },
    "executionInfo": {
     "elapsed": 452,
     "status": "ok",
     "timestamp": 1624382166142,
     "user": {
      "displayName": "Samrat Sakha",
      "photoUrl": "https://lh3.googleusercontent.com/a-/AOh14Giiw1rlsPx9M4hxGcoo12T-By_nflI_OdqNAeft5w=s64",
      "userId": "03047842225086067672"
     },
     "user_tz": -330
    },
    "id": "XcmQtg4mWJyR",
    "outputId": "cbe6c321-9fb0-426c-8c86-f756c4f1d046"
   },
   "outputs": [
    {
     "data": {
      "text/plain": [
       "(249, 7)"
      ]
     },
     "execution_count": 177,
     "metadata": {
      "tags": []
     },
     "output_type": "execute_result"
    }
   ],
   "source": [
    "df.shape"
   ]
  },
  {
   "cell_type": "code",
   "execution_count": 178,
   "metadata": {
    "colab": {
     "base_uri": "https://localhost:8080/"
    },
    "executionInfo": {
     "elapsed": 448,
     "status": "ok",
     "timestamp": 1624382169600,
     "user": {
      "displayName": "Samrat Sakha",
      "photoUrl": "https://lh3.googleusercontent.com/a-/AOh14Giiw1rlsPx9M4hxGcoo12T-By_nflI_OdqNAeft5w=s64",
      "userId": "03047842225086067672"
     },
     "user_tz": -330
    },
    "id": "96LQ97j5WL4P",
    "outputId": "a8f39066-f711-4b18-a186-47c98ef66872"
   },
   "outputs": [
    {
     "name": "stdout",
     "output_type": "stream",
     "text": [
      "<class 'pandas.core.frame.DataFrame'>\n",
      "DatetimeIndex: 249 entries, 2020-06-22 to 2021-06-18\n",
      "Data columns (total 7 columns):\n",
      " #   Column        Non-Null Count  Dtype  \n",
      "---  ------        --------------  -----  \n",
      " 0   Open          249 non-null    float64\n",
      " 1   High          249 non-null    float64\n",
      " 2   Low           249 non-null    float64\n",
      " 3   Close         249 non-null    float64\n",
      " 4   Volume        249 non-null    int64  \n",
      " 5   Dividends     249 non-null    float64\n",
      " 6   Stock Splits  249 non-null    int64  \n",
      "dtypes: float64(5), int64(2)\n",
      "memory usage: 15.6 KB\n"
     ]
    }
   ],
   "source": [
    "df.info()"
   ]
  },
  {
   "cell_type": "code",
   "execution_count": 179,
   "metadata": {
    "executionInfo": {
     "elapsed": 435,
     "status": "ok",
     "timestamp": 1624382172226,
     "user": {
      "displayName": "Samrat Sakha",
      "photoUrl": "https://lh3.googleusercontent.com/a-/AOh14Giiw1rlsPx9M4hxGcoo12T-By_nflI_OdqNAeft5w=s64",
      "userId": "03047842225086067672"
     },
     "user_tz": -330
    },
    "id": "1rfG9v5hWjNQ"
   },
   "outputs": [],
   "source": [
    "df = df.dropna(axis=0)"
   ]
  },
  {
   "cell_type": "code",
   "execution_count": 180,
   "metadata": {
    "colab": {
     "base_uri": "https://localhost:8080/"
    },
    "executionInfo": {
     "elapsed": 16,
     "status": "ok",
     "timestamp": 1624382173758,
     "user": {
      "displayName": "Samrat Sakha",
      "photoUrl": "https://lh3.googleusercontent.com/a-/AOh14Giiw1rlsPx9M4hxGcoo12T-By_nflI_OdqNAeft5w=s64",
      "userId": "03047842225086067672"
     },
     "user_tz": -330
    },
    "id": "JiGioagWW2rw",
    "outputId": "e80a19bb-34de-4584-8ddc-bc46806dd116"
   },
   "outputs": [
    {
     "data": {
      "text/plain": [
       "(249, 7)"
      ]
     },
     "execution_count": 180,
     "metadata": {
      "tags": []
     },
     "output_type": "execute_result"
    }
   ],
   "source": [
    "df.shape"
   ]
  },
  {
   "cell_type": "code",
   "execution_count": 181,
   "metadata": {
    "colab": {
     "base_uri": "https://localhost:8080/",
     "height": 236
    },
    "executionInfo": {
     "elapsed": 17,
     "status": "ok",
     "timestamp": 1624382175711,
     "user": {
      "displayName": "Samrat Sakha",
      "photoUrl": "https://lh3.googleusercontent.com/a-/AOh14Giiw1rlsPx9M4hxGcoo12T-By_nflI_OdqNAeft5w=s64",
      "userId": "03047842225086067672"
     },
     "user_tz": -330
    },
    "id": "Kn562UfOW4P4",
    "outputId": "16d0cf29-0565-4875-9ee0-f96fc5176a28"
   },
   "outputs": [
    {
     "data": {
      "text/html": [
       "<div>\n",
       "<style scoped>\n",
       "    .dataframe tbody tr th:only-of-type {\n",
       "        vertical-align: middle;\n",
       "    }\n",
       "\n",
       "    .dataframe tbody tr th {\n",
       "        vertical-align: top;\n",
       "    }\n",
       "\n",
       "    .dataframe thead th {\n",
       "        text-align: right;\n",
       "    }\n",
       "</style>\n",
       "<table border=\"1\" class=\"dataframe\">\n",
       "  <thead>\n",
       "    <tr style=\"text-align: right;\">\n",
       "      <th></th>\n",
       "      <th>Open</th>\n",
       "      <th>High</th>\n",
       "      <th>Low</th>\n",
       "      <th>Close</th>\n",
       "      <th>Volume</th>\n",
       "      <th>Dividends</th>\n",
       "      <th>Stock Splits</th>\n",
       "    </tr>\n",
       "    <tr>\n",
       "      <th>Date</th>\n",
       "      <th></th>\n",
       "      <th></th>\n",
       "      <th></th>\n",
       "      <th></th>\n",
       "      <th></th>\n",
       "      <th></th>\n",
       "      <th></th>\n",
       "    </tr>\n",
       "  </thead>\n",
       "  <tbody>\n",
       "    <tr>\n",
       "      <th>2020-06-22</th>\n",
       "      <td>2022.964205</td>\n",
       "      <td>2025.184531</td>\n",
       "      <td>1992.521084</td>\n",
       "      <td>2001.204956</td>\n",
       "      <td>3196138</td>\n",
       "      <td>0.0</td>\n",
       "      <td>0</td>\n",
       "    </tr>\n",
       "    <tr>\n",
       "      <th>2020-06-23</th>\n",
       "      <td>2000.267301</td>\n",
       "      <td>2017.043099</td>\n",
       "      <td>1983.491502</td>\n",
       "      <td>2008.457886</td>\n",
       "      <td>4205944</td>\n",
       "      <td>0.0</td>\n",
       "      <td>0</td>\n",
       "    </tr>\n",
       "    <tr>\n",
       "      <th>2020-06-24</th>\n",
       "      <td>2007.175038</td>\n",
       "      <td>2037.026092</td>\n",
       "      <td>2004.806666</td>\n",
       "      <td>2015.266846</td>\n",
       "      <td>2560937</td>\n",
       "      <td>0.0</td>\n",
       "      <td>0</td>\n",
       "    </tr>\n",
       "    <tr>\n",
       "      <th>2020-06-25</th>\n",
       "      <td>2008.161874</td>\n",
       "      <td>2032.832168</td>\n",
       "      <td>1982.751472</td>\n",
       "      <td>1989.511108</td>\n",
       "      <td>3043931</td>\n",
       "      <td>0.0</td>\n",
       "      <td>0</td>\n",
       "    </tr>\n",
       "    <tr>\n",
       "      <th>2020-06-26</th>\n",
       "      <td>1998.293634</td>\n",
       "      <td>2103.882483</td>\n",
       "      <td>1993.310187</td>\n",
       "      <td>2090.906006</td>\n",
       "      <td>6300722</td>\n",
       "      <td>0.0</td>\n",
       "      <td>0</td>\n",
       "    </tr>\n",
       "  </tbody>\n",
       "</table>\n",
       "</div>"
      ],
      "text/plain": [
       "                   Open         High  ...  Dividends  Stock Splits\n",
       "Date                                  ...                         \n",
       "2020-06-22  2022.964205  2025.184531  ...        0.0             0\n",
       "2020-06-23  2000.267301  2017.043099  ...        0.0             0\n",
       "2020-06-24  2007.175038  2037.026092  ...        0.0             0\n",
       "2020-06-25  2008.161874  2032.832168  ...        0.0             0\n",
       "2020-06-26  1998.293634  2103.882483  ...        0.0             0\n",
       "\n",
       "[5 rows x 7 columns]"
      ]
     },
     "execution_count": 181,
     "metadata": {
      "tags": []
     },
     "output_type": "execute_result"
    }
   ],
   "source": [
    "df.head()"
   ]
  },
  {
   "cell_type": "code",
   "execution_count": 182,
   "metadata": {
    "executionInfo": {
     "elapsed": 442,
     "status": "ok",
     "timestamp": 1624382181228,
     "user": {
      "displayName": "Samrat Sakha",
      "photoUrl": "https://lh3.googleusercontent.com/a-/AOh14Giiw1rlsPx9M4hxGcoo12T-By_nflI_OdqNAeft5w=s64",
      "userId": "03047842225086067672"
     },
     "user_tz": -330
    },
    "id": "Bs3wAecTW6Dv"
   },
   "outputs": [],
   "source": [
    "def prepare_data(timeseries_data, n_features):\n",
    "\tX, y =[],[]\n",
    "\tfor i in range(len(timeseries_data)):\n",
    "\t\t# find the end of this pattern\n",
    "\t\tend_ix = i + n_features\n",
    "\t\t# check if we are beyond the sequence\n",
    "\t\tif end_ix > len(timeseries_data)-1:\n",
    "\t\t\tbreak\n",
    "\t\t# gather input and output parts of the pattern\n",
    "\t\tseq_x, seq_y = timeseries_data[i:end_ix], timeseries_data[end_ix]\n",
    "\t\tX.append(seq_x)\n",
    "\t\ty.append(seq_y)\n",
    "\treturn np.array(X), np.array(y)"
   ]
  },
  {
   "cell_type": "code",
   "execution_count": 183,
   "metadata": {
    "executionInfo": {
     "elapsed": 11,
     "status": "ok",
     "timestamp": 1624382182803,
     "user": {
      "displayName": "Samrat Sakha",
      "photoUrl": "https://lh3.googleusercontent.com/a-/AOh14Giiw1rlsPx9M4hxGcoo12T-By_nflI_OdqNAeft5w=s64",
      "userId": "03047842225086067672"
     },
     "user_tz": -330
    },
    "id": "cHRvBsw3W-Ow"
   },
   "outputs": [],
   "source": [
    "data = df['Open'].copy()"
   ]
  },
  {
   "cell_type": "code",
   "execution_count": 184,
   "metadata": {
    "colab": {
     "base_uri": "https://localhost:8080/"
    },
    "executionInfo": {
     "elapsed": 14,
     "status": "ok",
     "timestamp": 1624382184205,
     "user": {
      "displayName": "Samrat Sakha",
      "photoUrl": "https://lh3.googleusercontent.com/a-/AOh14Giiw1rlsPx9M4hxGcoo12T-By_nflI_OdqNAeft5w=s64",
      "userId": "03047842225086067672"
     },
     "user_tz": -330
    },
    "id": "qhAcdl7CXFnE",
    "outputId": "4d56ff47-2e1f-43b5-c676-0c40bdcadce0"
   },
   "outputs": [
    {
     "data": {
      "text/plain": [
       "Date\n",
       "2020-06-22    2022.964205\n",
       "2020-06-23    2000.267301\n",
       "2020-06-24    2007.175038\n",
       "2020-06-25    2008.161874\n",
       "2020-06-26    1998.293634\n",
       "Name: Open, dtype: float64"
      ]
     },
     "execution_count": 184,
     "metadata": {
      "tags": []
     },
     "output_type": "execute_result"
    }
   ],
   "source": [
    "data.head()"
   ]
  },
  {
   "cell_type": "code",
   "execution_count": 251,
   "metadata": {
    "colab": {
     "base_uri": "https://localhost:8080/",
     "height": 285
    },
    "executionInfo": {
     "elapsed": 674,
     "status": "ok",
     "timestamp": 1624383501746,
     "user": {
      "displayName": "Samrat Sakha",
      "photoUrl": "https://lh3.googleusercontent.com/a-/AOh14Giiw1rlsPx9M4hxGcoo12T-By_nflI_OdqNAeft5w=s64",
      "userId": "03047842225086067672"
     },
     "user_tz": -330
    },
    "id": "He_evLXfyG9f",
    "outputId": "e9bdcfd4-995b-4e3b-b3ee-e902fd09e0a4"
   },
   "outputs": [
    {
     "data": {
      "text/plain": [
       "[<matplotlib.lines.Line2D at 0x7f4996f86390>]"
      ]
     },
     "execution_count": 251,
     "metadata": {
      "tags": []
     },
     "output_type": "execute_result"
    },
    {
     "data": {
      "image/png": "[encoded data removed]",
      "text/plain": [
       "<Figure size 432x288 with 1 Axes>"
      ]
     },
     "metadata": {
      "needs_background": "light",
      "tags": []
     },
     "output_type": "display_data"
    }
   ],
   "source": [
    "day_new=np.arange(1,250)\n",
    "plt.plot(day_new,data)"
   ]
  },
  {
   "cell_type": "code",
   "execution_count": 185,
   "metadata": {
    "executionInfo": {
     "elapsed": 12,
     "status": "ok",
     "timestamp": 1624382186396,
     "user": {
      "displayName": "Samrat Sakha",
      "photoUrl": "https://lh3.googleusercontent.com/a-/AOh14Giiw1rlsPx9M4hxGcoo12T-By_nflI_OdqNAeft5w=s64",
      "userId": "03047842225086067672"
     },
     "user_tz": -330
    },
    "id": "5FLhZoHGYI5I"
   },
   "outputs": [],
   "source": [
    "test_data = data.iloc[220:240]\n",
    "train_data = data.iloc[0:220]"
   ]
  },
  {
   "cell_type": "code",
   "execution_count": 186,
   "metadata": {
    "executionInfo": {
     "elapsed": 9,
     "status": "ok",
     "timestamp": 1624382188076,
     "user": {
      "displayName": "Samrat Sakha",
      "photoUrl": "https://lh3.googleusercontent.com/a-/AOh14Giiw1rlsPx9M4hxGcoo12T-By_nflI_OdqNAeft5w=s64",
      "userId": "03047842225086067672"
     },
     "user_tz": -330
    },
    "id": "US5j4aNOXHYJ"
   },
   "outputs": [],
   "source": [
    "timeseries_data = train_data.to_list()"
   ]
  },
  {
   "cell_type": "code",
   "execution_count": 187,
   "metadata": {
    "executionInfo": {
     "elapsed": 14,
     "status": "ok",
     "timestamp": 1624382189568,
     "user": {
      "displayName": "Samrat Sakha",
      "photoUrl": "https://lh3.googleusercontent.com/a-/AOh14Giiw1rlsPx9M4hxGcoo12T-By_nflI_OdqNAeft5w=s64",
      "userId": "03047842225086067672"
     },
     "user_tz": -330
    },
    "id": "lQo3Jis8XS0D"
   },
   "outputs": [],
   "source": [
    "n_steps = 10\n",
    "X, y = prepare_data(timeseries_data, n_steps)"
   ]
  },
  {
   "cell_type": "code",
   "execution_count": 188,
   "metadata": {
    "colab": {
     "base_uri": "https://localhost:8080/"
    },
    "executionInfo": {
     "elapsed": 13,
     "status": "ok",
     "timestamp": 1624382191512,
     "user": {
      "displayName": "Samrat Sakha",
      "photoUrl": "https://lh3.googleusercontent.com/a-/AOh14Giiw1rlsPx9M4hxGcoo12T-By_nflI_OdqNAeft5w=s64",
      "userId": "03047842225086067672"
     },
     "user_tz": -330
    },
    "id": "BJZdHq27XeKj",
    "outputId": "91462899-2a6f-4c0e-928e-25fcb823bfff"
   },
   "outputs": [
    {
     "name": "stdout",
     "output_type": "stream",
     "text": [
      "[2022.96420459 2000.26730051 2007.17503779 2008.16187422 1998.29363415\n",
      " 2080.19921244 2072.3046271  2052.27225175 2074.27811672 2135.11491753]\n",
      "2175.919899500187\n"
     ]
    },
    {
     "data": {
      "text/plain": [
       "(None, None)"
      ]
     },
     "execution_count": 188,
     "metadata": {
      "tags": []
     },
     "output_type": "execute_result"
    }
   ],
   "source": [
    "print(X[0]),print(y[0])"
   ]
  },
  {
   "cell_type": "code",
   "execution_count": 189,
   "metadata": {
    "executionInfo": {
     "elapsed": 566,
     "status": "ok",
     "timestamp": 1624382194232,
     "user": {
      "displayName": "Samrat Sakha",
      "photoUrl": "https://lh3.googleusercontent.com/a-/AOh14Giiw1rlsPx9M4hxGcoo12T-By_nflI_OdqNAeft5w=s64",
      "userId": "03047842225086067672"
     },
     "user_tz": -330
    },
    "id": "LcVp_YpyXhOY"
   },
   "outputs": [],
   "source": [
    "n_features = 1\n",
    "X = X.reshape((X.shape[0], X.shape[1], n_features))"
   ]
  },
  {
   "cell_type": "code",
   "execution_count": 190,
   "metadata": {
    "colab": {
     "base_uri": "https://localhost:8080/"
    },
    "executionInfo": {
     "elapsed": 20,
     "status": "ok",
     "timestamp": 1624382195767,
     "user": {
      "displayName": "Samrat Sakha",
      "photoUrl": "https://lh3.googleusercontent.com/a-/AOh14Giiw1rlsPx9M4hxGcoo12T-By_nflI_OdqNAeft5w=s64",
      "userId": "03047842225086067672"
     },
     "user_tz": -330
    },
    "id": "YCHHdxI_Xv1g",
    "outputId": "fc68ae09-679d-4bcd-8dbc-ece1322d8ea9"
   },
   "outputs": [
    {
     "data": {
      "text/plain": [
       "(210, 10, 1)"
      ]
     },
     "execution_count": 190,
     "metadata": {
      "tags": []
     },
     "output_type": "execute_result"
    }
   ],
   "source": [
    "X.shape"
   ]
  },
  {
   "cell_type": "code",
   "execution_count": 191,
   "metadata": {
    "colab": {
     "base_uri": "https://localhost:8080/"
    },
    "executionInfo": {
     "elapsed": 72350,
     "status": "ok",
     "timestamp": 1624382270111,
     "user": {
      "displayName": "Samrat Sakha",
      "photoUrl": "https://lh3.googleusercontent.com/a-/AOh14Giiw1rlsPx9M4hxGcoo12T-By_nflI_OdqNAeft5w=s64",
      "userId": "03047842225086067672"
     },
     "user_tz": -330
    },
    "id": "OXx4HvxIX7bg",
    "outputId": "c7eaadab-df56-4604-852a-3cfbd93bcabe"
   },
   "outputs": [
    {
     "name": "stdout",
     "output_type": "stream",
     "text": [
      "WARNING:tensorflow:Layer lstm_4 will not use cuDNN kernels since it doesn't meet the criteria. It will use a generic GPU kernel as fallback when running on GPU.\n",
      "WARNING:tensorflow:Layer lstm_5 will not use cuDNN kernels since it doesn't meet the criteria. It will use a generic GPU kernel as fallback when running on GPU.\n",
      "Epoch 1/300\n",
      "7/7 [==============================] - 2s 32ms/step - loss: 6382244.5000\n",
      "Epoch 2/300\n",
      "7/7 [==============================] - 0s 35ms/step - loss: 5859166.0000\n",
      "Epoch 3/300\n",
      "7/7 [==============================] - 0s 29ms/step - loss: 4185804.2500\n",
      "Epoch 4/300\n",
      "7/7 [==============================] - 0s 36ms/step - loss: 2381091.2500\n",
      "Epoch 5/300\n",
      "7/7 [==============================] - 0s 35ms/step - loss: 2490137.2500\n",
      "Epoch 6/300\n",
      "7/7 [==============================] - 0s 36ms/step - loss: 189661.5938\n",
      "Epoch 7/300\n",
      "7/7 [==============================] - 0s 30ms/step - loss: 10215.8174\n",
      "Epoch 8/300\n",
      "7/7 [==============================] - 0s 30ms/step - loss: 29400.2578\n",
      "Epoch 9/300\n",
      "7/7 [==============================] - 0s 34ms/step - loss: 13149.9795\n",
      "Epoch 10/300\n",
      "7/7 [==============================] - 0s 30ms/step - loss: 13489.6562\n",
      "Epoch 11/300\n",
      "7/7 [==============================] - 0s 29ms/step - loss: 11582.8877\n",
      "Epoch 12/300\n",
      "7/7 [==============================] - 0s 32ms/step - loss: 11607.7227\n",
      "Epoch 13/300\n",
      "7/7 [==============================] - 0s 33ms/step - loss: 11413.4238\n",
      "Epoch 14/300\n",
      "7/7 [==============================] - 0s 32ms/step - loss: 10910.8027\n",
      "Epoch 15/300\n",
      "7/7 [==============================] - 0s 32ms/step - loss: 11069.3457\n",
      "Epoch 16/300\n",
      "7/7 [==============================] - 0s 33ms/step - loss: 10946.4551\n",
      "Epoch 17/300\n",
      "7/7 [==============================] - 0s 30ms/step - loss: 11005.6182\n",
      "Epoch 18/300\n",
      "7/7 [==============================] - 0s 32ms/step - loss: 10927.5830\n",
      "Epoch 19/300\n",
      "7/7 [==============================] - 0s 32ms/step - loss: 10955.1504\n",
      "Epoch 20/300\n",
      "7/7 [==============================] - 0s 32ms/step - loss: 10707.3477\n",
      "Epoch 21/300\n",
      "7/7 [==============================] - 0s 29ms/step - loss: 10643.1475\n",
      "Epoch 22/300\n",
      "7/7 [==============================] - 0s 29ms/step - loss: 10602.5312\n",
      "Epoch 23/300\n",
      "7/7 [==============================] - 0s 33ms/step - loss: 10620.3623\n",
      "Epoch 24/300\n",
      "7/7 [==============================] - 0s 29ms/step - loss: 10531.3711\n",
      "Epoch 25/300\n",
      "7/7 [==============================] - 0s 30ms/step - loss: 10601.4893\n",
      "Epoch 26/300\n",
      "7/7 [==============================] - 0s 31ms/step - loss: 10534.5332\n",
      "Epoch 27/300\n",
      "7/7 [==============================] - 0s 33ms/step - loss: 10543.6973\n",
      "Epoch 28/300\n",
      "7/7 [==============================] - 0s 30ms/step - loss: 10560.1719\n",
      "Epoch 29/300\n",
      "7/7 [==============================] - 0s 29ms/step - loss: 10583.5361\n",
      "Epoch 30/300\n",
      "7/7 [==============================] - 0s 30ms/step - loss: 10573.1807\n",
      "Epoch 31/300\n",
      "7/7 [==============================] - 0s 33ms/step - loss: 10608.2998\n",
      "Epoch 32/300\n",
      "7/7 [==============================] - 0s 33ms/step - loss: 10544.2607\n",
      "Epoch 33/300\n",
      "7/7 [==============================] - 0s 33ms/step - loss: 10596.6650\n",
      "Epoch 34/300\n",
      "7/7 [==============================] - 0s 32ms/step - loss: 10539.0322\n",
      "Epoch 35/300\n",
      "7/7 [==============================] - 0s 35ms/step - loss: 10546.0176\n",
      "Epoch 36/300\n",
      "7/7 [==============================] - 0s 33ms/step - loss: 10547.9775\n",
      "Epoch 37/300\n",
      "7/7 [==============================] - 0s 33ms/step - loss: 10494.5967\n",
      "Epoch 38/300\n",
      "7/7 [==============================] - 0s 32ms/step - loss: 10450.5068\n",
      "Epoch 39/300\n",
      "7/7 [==============================] - 0s 34ms/step - loss: 10618.4395\n",
      "Epoch 40/300\n",
      "7/7 [==============================] - 0s 30ms/step - loss: 10481.4805\n",
      "Epoch 41/300\n",
      "7/7 [==============================] - 0s 32ms/step - loss: 10558.4092\n",
      "Epoch 42/300\n",
      "7/7 [==============================] - 0s 30ms/step - loss: 10516.5859\n",
      "Epoch 43/300\n",
      "7/7 [==============================] - 0s 31ms/step - loss: 10500.6191\n",
      "Epoch 44/300\n",
      "7/7 [==============================] - 0s 36ms/step - loss: 10446.5039\n",
      "Epoch 45/300\n",
      "7/7 [==============================] - 0s 32ms/step - loss: 10441.2227\n",
      "Epoch 46/300\n",
      "7/7 [==============================] - 0s 33ms/step - loss: 10509.0332\n",
      "Epoch 47/300\n",
      "7/7 [==============================] - 0s 33ms/step - loss: 10543.3027\n",
      "Epoch 48/300\n",
      "7/7 [==============================] - 0s 31ms/step - loss: 10576.5312\n",
      "Epoch 49/300\n",
      "7/7 [==============================] - 0s 30ms/step - loss: 10777.3545\n",
      "Epoch 50/300\n",
      "7/7 [==============================] - 0s 33ms/step - loss: 10404.3701\n",
      "Epoch 51/300\n",
      "7/7 [==============================] - 0s 31ms/step - loss: 10493.3525\n",
      "Epoch 52/300\n",
      "7/7 [==============================] - 0s 31ms/step - loss: 10472.7285\n",
      "Epoch 53/300\n",
      "7/7 [==============================] - 0s 33ms/step - loss: 10424.3271\n",
      "Epoch 54/300\n",
      "7/7 [==============================] - 0s 35ms/step - loss: 10453.1562\n",
      "Epoch 55/300\n",
      "7/7 [==============================] - 0s 31ms/step - loss: 10461.8535\n",
      "Epoch 56/300\n",
      "7/7 [==============================] - 0s 35ms/step - loss: 10606.8730\n",
      "Epoch 57/300\n",
      "7/7 [==============================] - 0s 31ms/step - loss: 10722.6084\n",
      "Epoch 58/300\n",
      "7/7 [==============================] - 0s 32ms/step - loss: 10441.3867\n",
      "Epoch 59/300\n",
      "7/7 [==============================] - 0s 32ms/step - loss: 10439.7715\n",
      "Epoch 60/300\n",
      "7/7 [==============================] - 0s 32ms/step - loss: 10465.1309\n",
      "Epoch 61/300\n",
      "7/7 [==============================] - 0s 33ms/step - loss: 10375.5195\n",
      "Epoch 62/300\n",
      "7/7 [==============================] - 0s 33ms/step - loss: 10325.3594\n",
      "Epoch 63/300\n",
      "7/7 [==============================] - 0s 32ms/step - loss: 10344.7080\n",
      "Epoch 64/300\n",
      "7/7 [==============================] - 0s 33ms/step - loss: 10360.5977\n",
      "Epoch 65/300\n",
      "7/7 [==============================] - 0s 35ms/step - loss: 10385.9473\n",
      "Epoch 66/300\n",
      "7/7 [==============================] - 0s 34ms/step - loss: 10342.2500\n",
      "Epoch 67/300\n",
      "7/7 [==============================] - 0s 36ms/step - loss: 10338.0293\n",
      "Epoch 68/300\n",
      "7/7 [==============================] - 0s 31ms/step - loss: 10386.6914\n",
      "Epoch 69/300\n",
      "7/7 [==============================] - 0s 32ms/step - loss: 10311.2402\n",
      "Epoch 70/300\n",
      "7/7 [==============================] - 0s 33ms/step - loss: 10449.8311\n",
      "Epoch 71/300\n",
      "7/7 [==============================] - 0s 36ms/step - loss: 10303.8896\n",
      "Epoch 72/300\n",
      "7/7 [==============================] - 0s 34ms/step - loss: 10400.3877\n",
      "Epoch 73/300\n",
      "7/7 [==============================] - 0s 32ms/step - loss: 10463.0635\n",
      "Epoch 74/300\n",
      "7/7 [==============================] - 0s 33ms/step - loss: 10726.2480\n",
      "Epoch 75/300\n",
      "7/7 [==============================] - 0s 38ms/step - loss: 10618.5703\n",
      "Epoch 76/300\n",
      "7/7 [==============================] - 0s 33ms/step - loss: 10342.8145\n",
      "Epoch 77/300\n",
      "7/7 [==============================] - 0s 32ms/step - loss: 10264.8740\n",
      "Epoch 78/300\n",
      "7/7 [==============================] - 0s 32ms/step - loss: 10313.4717\n",
      "Epoch 79/300\n",
      "7/7 [==============================] - 0s 37ms/step - loss: 10462.3428\n",
      "Epoch 80/300\n",
      "7/7 [==============================] - 0s 35ms/step - loss: 10353.1396\n",
      "Epoch 81/300\n",
      "7/7 [==============================] - 0s 32ms/step - loss: 10238.8037\n",
      "Epoch 82/300\n",
      "7/7 [==============================] - 0s 33ms/step - loss: 10266.5068\n",
      "Epoch 83/300\n",
      "7/7 [==============================] - 0s 33ms/step - loss: 10253.5938\n",
      "Epoch 84/300\n",
      "7/7 [==============================] - 0s 33ms/step - loss: 10576.4346\n",
      "Epoch 85/300\n",
      "7/7 [==============================] - 0s 31ms/step - loss: 10748.5010\n",
      "Epoch 86/300\n",
      "7/7 [==============================] - 0s 30ms/step - loss: 10539.2832\n",
      "Epoch 87/300\n",
      "7/7 [==============================] - 0s 35ms/step - loss: 10939.5869\n",
      "Epoch 88/300\n",
      "7/7 [==============================] - 0s 31ms/step - loss: 10268.7842\n",
      "Epoch 89/300\n",
      "7/7 [==============================] - 0s 33ms/step - loss: 10367.0713\n",
      "Epoch 90/300\n",
      "7/7 [==============================] - 0s 32ms/step - loss: 10554.2100\n",
      "Epoch 91/300\n",
      "7/7 [==============================] - 0s 32ms/step - loss: 10484.9775\n",
      "Epoch 92/300\n",
      "7/7 [==============================] - 0s 35ms/step - loss: 10558.9941\n",
      "Epoch 93/300\n",
      "7/7 [==============================] - 0s 42ms/step - loss: 10581.5781\n",
      "Epoch 94/300\n",
      "7/7 [==============================] - 0s 32ms/step - loss: 10321.0234\n",
      "Epoch 95/300\n",
      "7/7 [==============================] - 0s 33ms/step - loss: 10185.9658\n",
      "Epoch 96/300\n",
      "7/7 [==============================] - 0s 31ms/step - loss: 10230.1191\n",
      "Epoch 97/300\n",
      "7/7 [==============================] - 0s 31ms/step - loss: 10299.9189\n",
      "Epoch 98/300\n",
      "7/7 [==============================] - 0s 32ms/step - loss: 10384.5283\n",
      "Epoch 99/300\n",
      "7/7 [==============================] - 0s 32ms/step - loss: 10289.7705\n",
      "Epoch 100/300\n",
      "7/7 [==============================] - 0s 32ms/step - loss: 10249.5615\n",
      "Epoch 101/300\n",
      "7/7 [==============================] - 0s 33ms/step - loss: 10182.9893\n",
      "Epoch 102/300\n",
      "7/7 [==============================] - 0s 34ms/step - loss: 10165.7549\n",
      "Epoch 103/300\n",
      "7/7 [==============================] - 0s 31ms/step - loss: 10232.4502\n",
      "Epoch 104/300\n",
      "7/7 [==============================] - 0s 32ms/step - loss: 10182.1787\n",
      "Epoch 105/300\n",
      "7/7 [==============================] - 0s 33ms/step - loss: 10201.4844\n",
      "Epoch 106/300\n",
      "7/7 [==============================] - 0s 35ms/step - loss: 10136.8574\n",
      "Epoch 107/300\n",
      "7/7 [==============================] - 0s 32ms/step - loss: 10298.8906\n",
      "Epoch 108/300\n",
      "7/7 [==============================] - 0s 35ms/step - loss: 10222.8906\n",
      "Epoch 109/300\n",
      "7/7 [==============================] - 0s 34ms/step - loss: 10282.1133\n",
      "Epoch 110/300\n",
      "7/7 [==============================] - 0s 31ms/step - loss: 10287.1016\n",
      "Epoch 111/300\n",
      "7/7 [==============================] - 0s 35ms/step - loss: 10228.0117\n",
      "Epoch 112/300\n",
      "7/7 [==============================] - 0s 33ms/step - loss: 10791.9834\n",
      "Epoch 113/300\n",
      "7/7 [==============================] - 0s 34ms/step - loss: 10740.2646\n",
      "Epoch 114/300\n",
      "7/7 [==============================] - 0s 31ms/step - loss: 10112.2051\n",
      "Epoch 115/300\n",
      "7/7 [==============================] - 0s 33ms/step - loss: 10075.6504\n",
      "Epoch 116/300\n",
      "7/7 [==============================] - 0s 30ms/step - loss: 10016.9795\n",
      "Epoch 117/300\n",
      "7/7 [==============================] - 0s 33ms/step - loss: 10125.1074\n",
      "Epoch 118/300\n",
      "7/7 [==============================] - 0s 39ms/step - loss: 10300.4258\n",
      "Epoch 119/300\n",
      "7/7 [==============================] - 0s 36ms/step - loss: 10608.4355\n",
      "Epoch 120/300\n",
      "7/7 [==============================] - 0s 34ms/step - loss: 10357.9902\n",
      "Epoch 121/300\n",
      "7/7 [==============================] - 0s 35ms/step - loss: 10362.4717\n",
      "Epoch 122/300\n",
      "7/7 [==============================] - 0s 32ms/step - loss: 10149.7168\n",
      "Epoch 123/300\n",
      "7/7 [==============================] - 0s 31ms/step - loss: 10005.4336\n",
      "Epoch 124/300\n",
      "7/7 [==============================] - 0s 32ms/step - loss: 10102.0498\n",
      "Epoch 125/300\n",
      "7/7 [==============================] - 0s 31ms/step - loss: 9875.2002\n",
      "Epoch 126/300\n",
      "7/7 [==============================] - 0s 31ms/step - loss: 10025.0146\n",
      "Epoch 127/300\n",
      "7/7 [==============================] - 0s 34ms/step - loss: 9934.7373\n",
      "Epoch 128/300\n",
      "7/7 [==============================] - 0s 32ms/step - loss: 10057.2109\n",
      "Epoch 129/300\n",
      "7/7 [==============================] - 0s 34ms/step - loss: 10194.0527\n",
      "Epoch 130/300\n",
      "7/7 [==============================] - 0s 35ms/step - loss: 9849.8262\n",
      "Epoch 131/300\n",
      "7/7 [==============================] - 0s 34ms/step - loss: 9969.7979\n",
      "Epoch 132/300\n",
      "7/7 [==============================] - 0s 33ms/step - loss: 10398.8867\n",
      "Epoch 133/300\n",
      "7/7 [==============================] - 0s 33ms/step - loss: 10256.7861\n",
      "Epoch 134/300\n",
      "7/7 [==============================] - 0s 32ms/step - loss: 10137.5400\n",
      "Epoch 135/300\n",
      "7/7 [==============================] - 0s 32ms/step - loss: 9982.4199\n",
      "Epoch 136/300\n",
      "7/7 [==============================] - 0s 35ms/step - loss: 9839.6885\n",
      "Epoch 137/300\n",
      "7/7 [==============================] - 0s 32ms/step - loss: 9974.3320\n",
      "Epoch 138/300\n",
      "7/7 [==============================] - 0s 32ms/step - loss: 10397.2129\n",
      "Epoch 139/300\n",
      "7/7 [==============================] - 0s 30ms/step - loss: 10225.1338\n",
      "Epoch 140/300\n",
      "7/7 [==============================] - 0s 33ms/step - loss: 10070.0020\n",
      "Epoch 141/300\n",
      "7/7 [==============================] - 0s 33ms/step - loss: 9853.7539\n",
      "Epoch 142/300\n",
      "7/7 [==============================] - 0s 34ms/step - loss: 9884.9355\n",
      "Epoch 143/300\n",
      "7/7 [==============================] - 0s 30ms/step - loss: 10383.3477\n",
      "Epoch 144/300\n",
      "7/7 [==============================] - 0s 30ms/step - loss: 83162.4453\n",
      "Epoch 145/300\n",
      "7/7 [==============================] - 0s 31ms/step - loss: 16107.2305\n",
      "Epoch 146/300\n",
      "7/7 [==============================] - 0s 30ms/step - loss: 12005.2412\n",
      "Epoch 147/300\n",
      "7/7 [==============================] - 0s 30ms/step - loss: 12009.4443\n",
      "Epoch 148/300\n",
      "7/7 [==============================] - 0s 31ms/step - loss: 11528.0576\n",
      "Epoch 149/300\n",
      "7/7 [==============================] - 0s 32ms/step - loss: 10937.8584\n",
      "Epoch 150/300\n",
      "7/7 [==============================] - 0s 32ms/step - loss: 10880.7793\n",
      "Epoch 151/300\n",
      "7/7 [==============================] - 0s 32ms/step - loss: 10964.7021\n",
      "Epoch 152/300\n",
      "7/7 [==============================] - 0s 32ms/step - loss: 10921.4688\n",
      "Epoch 153/300\n",
      "7/7 [==============================] - 0s 35ms/step - loss: 11144.3838\n",
      "Epoch 154/300\n",
      "7/7 [==============================] - 0s 33ms/step - loss: 11075.1094\n",
      "Epoch 155/300\n",
      "7/7 [==============================] - 0s 38ms/step - loss: 10957.5371\n",
      "Epoch 156/300\n",
      "7/7 [==============================] - 0s 37ms/step - loss: 10580.0605\n",
      "Epoch 157/300\n",
      "7/7 [==============================] - 0s 33ms/step - loss: 10865.5586\n",
      "Epoch 158/300\n",
      "7/7 [==============================] - 0s 33ms/step - loss: 10834.8145\n",
      "Epoch 159/300\n",
      "7/7 [==============================] - 0s 38ms/step - loss: 10915.1074\n",
      "Epoch 160/300\n",
      "7/7 [==============================] - 0s 38ms/step - loss: 10852.9062\n",
      "Epoch 161/300\n",
      "7/7 [==============================] - 0s 33ms/step - loss: 10769.5332\n",
      "Epoch 162/300\n",
      "7/7 [==============================] - 0s 35ms/step - loss: 10667.1162\n",
      "Epoch 163/300\n",
      "7/7 [==============================] - 0s 39ms/step - loss: 11001.5449\n",
      "Epoch 164/300\n",
      "7/7 [==============================] - 0s 32ms/step - loss: 10548.2051\n",
      "Epoch 165/300\n",
      "7/7 [==============================] - 0s 41ms/step - loss: 10468.0918\n",
      "Epoch 166/300\n",
      "7/7 [==============================] - 0s 35ms/step - loss: 10686.2383\n",
      "Epoch 167/300\n",
      "7/7 [==============================] - 0s 34ms/step - loss: 10830.5361\n",
      "Epoch 168/300\n",
      "7/7 [==============================] - 0s 31ms/step - loss: 10571.3574\n",
      "Epoch 169/300\n",
      "7/7 [==============================] - 0s 34ms/step - loss: 10491.7119\n",
      "Epoch 170/300\n",
      "7/7 [==============================] - 0s 38ms/step - loss: 10481.3848\n",
      "Epoch 171/300\n",
      "7/7 [==============================] - 0s 37ms/step - loss: 10439.7412\n",
      "Epoch 172/300\n",
      "7/7 [==============================] - 0s 32ms/step - loss: 10420.5693\n",
      "Epoch 173/300\n",
      "7/7 [==============================] - 0s 34ms/step - loss: 10255.7100\n",
      "Epoch 174/300\n",
      "7/7 [==============================] - 0s 33ms/step - loss: 10544.4561\n",
      "Epoch 175/300\n",
      "7/7 [==============================] - 0s 33ms/step - loss: 10694.9033\n",
      "Epoch 176/300\n",
      "7/7 [==============================] - 0s 34ms/step - loss: 10258.7354\n",
      "Epoch 177/300\n",
      "7/7 [==============================] - 0s 34ms/step - loss: 10257.9795\n",
      "Epoch 178/300\n",
      "7/7 [==============================] - 0s 33ms/step - loss: 10273.5635\n",
      "Epoch 179/300\n",
      "7/7 [==============================] - 0s 35ms/step - loss: 10238.9180\n",
      "Epoch 180/300\n",
      "7/7 [==============================] - 0s 33ms/step - loss: 10215.3555\n",
      "Epoch 181/300\n",
      "7/7 [==============================] - 0s 38ms/step - loss: 10206.4004\n",
      "Epoch 182/300\n",
      "7/7 [==============================] - 0s 38ms/step - loss: 10192.2402\n",
      "Epoch 183/300\n",
      "7/7 [==============================] - 0s 38ms/step - loss: 10232.5664\n",
      "Epoch 184/300\n",
      "7/7 [==============================] - 0s 34ms/step - loss: 10204.0635\n",
      "Epoch 185/300\n",
      "7/7 [==============================] - 0s 33ms/step - loss: 10291.6230\n",
      "Epoch 186/300\n",
      "7/7 [==============================] - 0s 39ms/step - loss: 10199.4082\n",
      "Epoch 187/300\n",
      "7/7 [==============================] - 0s 34ms/step - loss: 10159.3926\n",
      "Epoch 188/300\n",
      "7/7 [==============================] - 0s 35ms/step - loss: 10138.2646\n",
      "Epoch 189/300\n",
      "7/7 [==============================] - 0s 31ms/step - loss: 10090.7764\n",
      "Epoch 190/300\n",
      "7/7 [==============================] - 0s 37ms/step - loss: 10481.6924\n",
      "Epoch 191/300\n",
      "7/7 [==============================] - 0s 31ms/step - loss: 10197.6299\n",
      "Epoch 192/300\n",
      "7/7 [==============================] - 0s 33ms/step - loss: 10455.8535\n",
      "Epoch 193/300\n",
      "7/7 [==============================] - 0s 31ms/step - loss: 10495.9111\n",
      "Epoch 194/300\n",
      "7/7 [==============================] - 0s 33ms/step - loss: 10332.1357\n",
      "Epoch 195/300\n",
      "7/7 [==============================] - 0s 32ms/step - loss: 10193.2930\n",
      "Epoch 196/300\n",
      "7/7 [==============================] - 0s 30ms/step - loss: 10261.0293\n",
      "Epoch 197/300\n",
      "7/7 [==============================] - 0s 35ms/step - loss: 10280.4844\n",
      "Epoch 198/300\n",
      "7/7 [==============================] - 0s 34ms/step - loss: 10020.8047\n",
      "Epoch 199/300\n",
      "7/7 [==============================] - 0s 35ms/step - loss: 10063.9072\n",
      "Epoch 200/300\n",
      "7/7 [==============================] - 0s 32ms/step - loss: 9964.0186\n",
      "Epoch 201/300\n",
      "7/7 [==============================] - 0s 30ms/step - loss: 10053.1504\n",
      "Epoch 202/300\n",
      "7/7 [==============================] - 0s 36ms/step - loss: 9948.5859\n",
      "Epoch 203/300\n",
      "7/7 [==============================] - 0s 32ms/step - loss: 9951.5752\n",
      "Epoch 204/300\n",
      "7/7 [==============================] - 0s 34ms/step - loss: 10025.0254\n",
      "Epoch 205/300\n",
      "7/7 [==============================] - 0s 33ms/step - loss: 10361.9219\n",
      "Epoch 206/300\n",
      "7/7 [==============================] - 0s 32ms/step - loss: 9983.0625\n",
      "Epoch 207/300\n",
      "7/7 [==============================] - 0s 35ms/step - loss: 9943.4307\n",
      "Epoch 208/300\n",
      "7/7 [==============================] - 0s 29ms/step - loss: 9958.7900\n",
      "Epoch 209/300\n",
      "7/7 [==============================] - 0s 36ms/step - loss: 9972.3086\n",
      "Epoch 210/300\n",
      "7/7 [==============================] - 0s 34ms/step - loss: 10025.6416\n",
      "Epoch 211/300\n",
      "7/7 [==============================] - 0s 35ms/step - loss: 10159.0488\n",
      "Epoch 212/300\n",
      "7/7 [==============================] - 0s 34ms/step - loss: 10233.5850\n",
      "Epoch 213/300\n",
      "7/7 [==============================] - 0s 32ms/step - loss: 10161.6338\n",
      "Epoch 214/300\n",
      "7/7 [==============================] - 0s 32ms/step - loss: 9832.1455\n",
      "Epoch 215/300\n",
      "7/7 [==============================] - 0s 33ms/step - loss: 9848.7197\n",
      "Epoch 216/300\n",
      "7/7 [==============================] - 0s 37ms/step - loss: 9917.3770\n",
      "Epoch 217/300\n",
      "7/7 [==============================] - 0s 33ms/step - loss: 9954.5781\n",
      "Epoch 218/300\n",
      "7/7 [==============================] - 0s 31ms/step - loss: 9818.1270\n",
      "Epoch 219/300\n",
      "7/7 [==============================] - 0s 33ms/step - loss: 9732.6836\n",
      "Epoch 220/300\n",
      "7/7 [==============================] - 0s 32ms/step - loss: 9959.7930\n",
      "Epoch 221/300\n",
      "7/7 [==============================] - 0s 33ms/step - loss: 10132.9043\n",
      "Epoch 222/300\n",
      "7/7 [==============================] - 0s 38ms/step - loss: 9763.0283\n",
      "Epoch 223/300\n",
      "7/7 [==============================] - 0s 34ms/step - loss: 9713.8408\n",
      "Epoch 224/300\n",
      "7/7 [==============================] - 0s 34ms/step - loss: 9784.4414\n",
      "Epoch 225/300\n",
      "7/7 [==============================] - 0s 33ms/step - loss: 10123.4238\n",
      "Epoch 226/300\n",
      "7/7 [==============================] - 0s 41ms/step - loss: 9834.5293\n",
      "Epoch 227/300\n",
      "7/7 [==============================] - 0s 31ms/step - loss: 9758.5508\n",
      "Epoch 228/300\n",
      "7/7 [==============================] - 0s 33ms/step - loss: 9624.5615\n",
      "Epoch 229/300\n",
      "7/7 [==============================] - 0s 32ms/step - loss: 9600.9980\n",
      "Epoch 230/300\n",
      "7/7 [==============================] - 0s 29ms/step - loss: 9688.4180\n",
      "Epoch 231/300\n",
      "7/7 [==============================] - 0s 29ms/step - loss: 9613.8760\n",
      "Epoch 232/300\n",
      "7/7 [==============================] - 0s 34ms/step - loss: 9769.9785\n",
      "Epoch 233/300\n",
      "7/7 [==============================] - 0s 32ms/step - loss: 10183.1299\n",
      "Epoch 234/300\n",
      "7/7 [==============================] - 0s 31ms/step - loss: 9958.4854\n",
      "Epoch 235/300\n",
      "7/7 [==============================] - 0s 33ms/step - loss: 10064.5273\n",
      "Epoch 236/300\n",
      "7/7 [==============================] - 0s 32ms/step - loss: 9800.9336\n",
      "Epoch 237/300\n",
      "7/7 [==============================] - 0s 35ms/step - loss: 10239.0605\n",
      "Epoch 238/300\n",
      "7/7 [==============================] - 0s 35ms/step - loss: 10034.8662\n",
      "Epoch 239/300\n",
      "7/7 [==============================] - 0s 32ms/step - loss: 10488.1914\n",
      "Epoch 240/300\n",
      "7/7 [==============================] - 0s 32ms/step - loss: 9678.3838\n",
      "Epoch 241/300\n",
      "7/7 [==============================] - 0s 34ms/step - loss: 9503.5098\n",
      "Epoch 242/300\n",
      "7/7 [==============================] - 0s 30ms/step - loss: 9539.4912\n",
      "Epoch 243/300\n",
      "7/7 [==============================] - 0s 32ms/step - loss: 9715.6504\n",
      "Epoch 244/300\n",
      "7/7 [==============================] - 0s 31ms/step - loss: 9487.8301\n",
      "Epoch 245/300\n",
      "7/7 [==============================] - 0s 36ms/step - loss: 9698.6504\n",
      "Epoch 246/300\n",
      "7/7 [==============================] - 0s 33ms/step - loss: 9502.1875\n",
      "Epoch 247/300\n",
      "7/7 [==============================] - 0s 32ms/step - loss: 9744.5371\n",
      "Epoch 248/300\n",
      "7/7 [==============================] - 0s 32ms/step - loss: 9550.6006\n",
      "Epoch 249/300\n",
      "7/7 [==============================] - 0s 32ms/step - loss: 9486.0498\n",
      "Epoch 250/300\n",
      "7/7 [==============================] - 0s 34ms/step - loss: 9597.6934\n",
      "Epoch 251/300\n",
      "7/7 [==============================] - 0s 36ms/step - loss: 9600.4951\n",
      "Epoch 252/300\n",
      "7/7 [==============================] - 0s 30ms/step - loss: 9854.4463\n",
      "Epoch 253/300\n",
      "7/7 [==============================] - 0s 33ms/step - loss: 9482.5918\n",
      "Epoch 254/300\n",
      "7/7 [==============================] - 0s 30ms/step - loss: 9148.0928\n",
      "Epoch 255/300\n",
      "7/7 [==============================] - 0s 33ms/step - loss: 9720.3125\n",
      "Epoch 256/300\n",
      "7/7 [==============================] - 0s 30ms/step - loss: 9341.1074\n",
      "Epoch 257/300\n",
      "7/7 [==============================] - 0s 32ms/step - loss: 9431.4248\n",
      "Epoch 258/300\n",
      "7/7 [==============================] - 0s 35ms/step - loss: 9247.1748\n",
      "Epoch 259/300\n",
      "7/7 [==============================] - 0s 33ms/step - loss: 9058.6465\n",
      "Epoch 260/300\n",
      "7/7 [==============================] - 0s 29ms/step - loss: 9660.0996\n",
      "Epoch 261/300\n",
      "7/7 [==============================] - 0s 30ms/step - loss: 9541.6484\n",
      "Epoch 262/300\n",
      "7/7 [==============================] - 0s 31ms/step - loss: 9344.9756\n",
      "Epoch 263/300\n",
      "7/7 [==============================] - 0s 30ms/step - loss: 9524.0459\n",
      "Epoch 264/300\n",
      "7/7 [==============================] - 0s 34ms/step - loss: 9191.1211\n",
      "Epoch 265/300\n",
      "7/7 [==============================] - 0s 35ms/step - loss: 9308.7549\n",
      "Epoch 266/300\n",
      "7/7 [==============================] - 0s 36ms/step - loss: 9345.7969\n",
      "Epoch 267/300\n",
      "7/7 [==============================] - 0s 36ms/step - loss: 9769.5664\n",
      "Epoch 268/300\n",
      "7/7 [==============================] - 0s 33ms/step - loss: 9174.7373\n",
      "Epoch 269/300\n",
      "7/7 [==============================] - 0s 33ms/step - loss: 9186.2881\n",
      "Epoch 270/300\n",
      "7/7 [==============================] - 0s 36ms/step - loss: 9234.1631\n",
      "Epoch 271/300\n",
      "7/7 [==============================] - 0s 36ms/step - loss: 8983.7480\n",
      "Epoch 272/300\n",
      "7/7 [==============================] - 0s 34ms/step - loss: 8856.0176\n",
      "Epoch 273/300\n",
      "7/7 [==============================] - 0s 32ms/step - loss: 9096.9512\n",
      "Epoch 274/300\n",
      "7/7 [==============================] - 0s 31ms/step - loss: 8937.1152\n",
      "Epoch 275/300\n",
      "7/7 [==============================] - 0s 31ms/step - loss: 9414.1992\n",
      "Epoch 276/300\n",
      "7/7 [==============================] - 0s 33ms/step - loss: 9102.9805\n",
      "Epoch 277/300\n",
      "7/7 [==============================] - 0s 31ms/step - loss: 10873.6904\n",
      "Epoch 278/300\n",
      "7/7 [==============================] - 0s 32ms/step - loss: 10692.1689\n",
      "Epoch 279/300\n",
      "7/7 [==============================] - 0s 34ms/step - loss: 11001.4883\n",
      "Epoch 280/300\n",
      "7/7 [==============================] - 0s 34ms/step - loss: 9825.6885\n",
      "Epoch 281/300\n",
      "7/7 [==============================] - 0s 34ms/step - loss: 9580.3633\n",
      "Epoch 282/300\n",
      "7/7 [==============================] - 0s 32ms/step - loss: 9490.0615\n",
      "Epoch 283/300\n",
      "7/7 [==============================] - 0s 31ms/step - loss: 9820.7520\n",
      "Epoch 284/300\n",
      "7/7 [==============================] - 0s 37ms/step - loss: 9591.2881\n",
      "Epoch 285/300\n",
      "7/7 [==============================] - 0s 31ms/step - loss: 9897.2236\n",
      "Epoch 286/300\n",
      "7/7 [==============================] - 0s 34ms/step - loss: 9794.4932\n",
      "Epoch 287/300\n",
      "7/7 [==============================] - 0s 32ms/step - loss: 9620.9346\n",
      "Epoch 288/300\n",
      "7/7 [==============================] - 0s 33ms/step - loss: 9325.1562\n",
      "Epoch 289/300\n",
      "7/7 [==============================] - 0s 35ms/step - loss: 9554.0068\n",
      "Epoch 290/300\n",
      "7/7 [==============================] - 0s 32ms/step - loss: 9536.4248\n",
      "Epoch 291/300\n",
      "7/7 [==============================] - 0s 33ms/step - loss: 9287.7891\n",
      "Epoch 292/300\n",
      "7/7 [==============================] - 0s 32ms/step - loss: 9342.5312\n",
      "Epoch 293/300\n",
      "7/7 [==============================] - 0s 40ms/step - loss: 9301.5664\n",
      "Epoch 294/300\n",
      "7/7 [==============================] - 0s 31ms/step - loss: 9405.2402\n",
      "Epoch 295/300\n",
      "7/7 [==============================] - 0s 32ms/step - loss: 9312.8428\n",
      "Epoch 296/300\n",
      "7/7 [==============================] - 0s 31ms/step - loss: 9375.4316\n",
      "Epoch 297/300\n",
      "7/7 [==============================] - 0s 34ms/step - loss: 9111.1357\n",
      "Epoch 298/300\n",
      "7/7 [==============================] - 0s 33ms/step - loss: 9324.2363\n",
      "Epoch 299/300\n",
      "7/7 [==============================] - 0s 30ms/step - loss: 9322.3486\n",
      "Epoch 300/300\n",
      "7/7 [==============================] - 0s 33ms/step - loss: 9131.6885\n"
     ]
    },
    {
     "data": {
      "text/plain": [
       "<tensorflow.python.keras.callbacks.History at 0x7f49a222a490>"
      ]
     },
     "execution_count": 191,
     "metadata": {
      "tags": []
     },
     "output_type": "execute_result"
    }
   ],
   "source": [
    "model = Sequential()\n",
    "model.add(LSTM(50, activation='relu', return_sequences=True, input_shape=(n_steps, n_features)))\n",
    "model.add(LSTM(50, activation='relu'))\n",
    "model.add(Dense(1))\n",
    "model.compile(optimizer='adam', loss='mse')\n",
    "# fit model\n",
    "model.fit(X, y, epochs=300, verbose=1)"
   ]
  },
  {
   "cell_type": "code",
   "execution_count": 192,
   "metadata": {
    "executionInfo": {
     "elapsed": 491,
     "status": "ok",
     "timestamp": 1624382293120,
     "user": {
      "displayName": "Samrat Sakha",
      "photoUrl": "https://lh3.googleusercontent.com/a-/AOh14Giiw1rlsPx9M4hxGcoo12T-By_nflI_OdqNAeft5w=s64",
      "userId": "03047842225086067672"
     },
     "user_tz": -330
    },
    "id": "mA8BcfPKaJXZ"
   },
   "outputs": [],
   "source": [
    "def predict_next(x_input,length,days):\n",
    "    x_input = np.array(x_input)\n",
    "    temp_input=list(x_input)\n",
    "    lst_output=[]\n",
    "    i=0\n",
    "    while(i<days):\n",
    "        \n",
    "        if(len(temp_input)>length):\n",
    "            x_input=np.array(temp_input[1:])\n",
    "            print(\"{} day input {}\".format(i,x_input))\n",
    "            #print(x_input)\n",
    "            x_input = x_input.reshape((1, n_steps, n_features))\n",
    "            #print(x_input)\n",
    "            yhat = model.predict(x_input, verbose=0)\n",
    "            print(\"{} day output {}\".format(i,yhat))\n",
    "            temp_input.append(yhat[0][0])\n",
    "            temp_input=temp_input[1:]\n",
    "            #print(temp_input)\n",
    "            lst_output.append(yhat[0][0])\n",
    "            i=i+1\n",
    "        else:\n",
    "            x_input = x_input.reshape((1, n_steps, n_features))\n",
    "            yhat = model.predict(x_input, verbose=0)\n",
    "            print(yhat[0])\n",
    "            temp_input.append(yhat[0][0])\n",
    "            lst_output.append(yhat[0][0])\n",
    "            i=i+1\n",
    "        \n",
    "    return lst_output"
   ]
  },
  {
   "cell_type": "code",
   "execution_count": 193,
   "metadata": {
    "colab": {
     "base_uri": "https://localhost:8080/"
    },
    "executionInfo": {
     "elapsed": 703,
     "status": "ok",
     "timestamp": 1624382295227,
     "user": {
      "displayName": "Samrat Sakha",
      "photoUrl": "https://lh3.googleusercontent.com/a-/AOh14Giiw1rlsPx9M4hxGcoo12T-By_nflI_OdqNAeft5w=s64",
      "userId": "03047842225086067672"
     },
     "user_tz": -330
    },
    "id": "skDy10DpbVB7",
    "outputId": "9d73e162-25fe-4c49-a602-99d268a0c416"
   },
   "outputs": [
    {
     "data": {
      "text/plain": [
       "(20,)"
      ]
     },
     "execution_count": 193,
     "metadata": {
      "tags": []
     },
     "output_type": "execute_result"
    }
   ],
   "source": [
    "test_data.shape"
   ]
  },
  {
   "cell_type": "code",
   "execution_count": 194,
   "metadata": {
    "executionInfo": {
     "elapsed": 579,
     "status": "ok",
     "timestamp": 1624382297359,
     "user": {
      "displayName": "Samrat Sakha",
      "photoUrl": "https://lh3.googleusercontent.com/a-/AOh14Giiw1rlsPx9M4hxGcoo12T-By_nflI_OdqNAeft5w=s64",
      "userId": "03047842225086067672"
     },
     "user_tz": -330
    },
    "id": "HXAPrvrub9P6"
   },
   "outputs": [],
   "source": [
    "test_data = test_data.to_list()"
   ]
  },
  {
   "cell_type": "code",
   "execution_count": 227,
   "metadata": {
    "colab": {
     "base_uri": "https://localhost:8080/"
    },
    "executionInfo": {
     "elapsed": 642,
     "status": "ok",
     "timestamp": 1624382944301,
     "user": {
      "displayName": "Samrat Sakha",
      "photoUrl": "https://lh3.googleusercontent.com/a-/AOh14Giiw1rlsPx9M4hxGcoo12T-By_nflI_OdqNAeft5w=s64",
      "userId": "03047842225086067672"
     },
     "user_tz": -330
    },
    "id": "wUQLC5zkbmhC",
    "outputId": "39588204-2add-4a7a-c1cc-3b99a15e5535"
   },
   "outputs": [
    {
     "name": "stdout",
     "output_type": "stream",
     "text": [
      "[3120.9001]\n",
      "1 day input [3109.78836677 3104.81274566 3083.41721085 3040.12917165 3084.91008143\n",
      " 3068.98782307 3052.1702726  3046.09980402 3066.5        3120.90014648]\n",
      "1 day output [[3110.0732]]\n",
      "2 day input [3104.81274566 3083.41721085 3040.12917165 3084.91008143 3068.98782307\n",
      " 3052.1702726  3046.09980402 3066.5        3120.90014648 3110.07324219]\n",
      "2 day output [[3103.834]]\n",
      "3 day input [3083.41721085 3040.12917165 3084.91008143 3068.98782307 3052.1702726\n",
      " 3046.09980402 3066.5        3120.90014648 3110.07324219 3103.83398438]\n",
      "3 day output [[3110.8237]]\n",
      "4 day input [3040.12917165 3084.91008143 3068.98782307 3052.1702726  3046.09980402\n",
      " 3066.5        3120.90014648 3110.07324219 3103.83398438 3110.82373047]\n",
      "4 day output [[3109.5251]]\n",
      "5 day input [3084.91008143 3068.98782307 3052.1702726  3046.09980402 3066.5\n",
      " 3120.90014648 3110.07324219 3103.83398438 3110.82373047 3109.52514648]\n",
      "5 day output [[3116.0237]]\n",
      "6 day input [3068.98782307 3052.1702726  3046.09980402 3066.5        3120.90014648\n",
      " 3110.07324219 3103.83398438 3110.82373047 3109.52514648 3116.02368164]\n",
      "6 day output [[3114.35]]\n",
      "7 day input [3052.1702726  3046.09980402 3066.5        3120.90014648 3110.07324219\n",
      " 3103.83398438 3110.82373047 3109.52514648 3116.02368164 3114.35009766]\n",
      "7 day output [[3115.8408]]\n",
      "8 day input [3046.09980402 3066.5        3120.90014648 3110.07324219 3103.83398438\n",
      " 3110.82373047 3109.52514648 3116.02368164 3114.35009766 3115.84082031]\n",
      "8 day output [[3126.476]]\n",
      "9 day input [3066.5        3120.90014648 3110.07324219 3103.83398438 3110.82373047\n",
      " 3109.52514648 3116.02368164 3114.35009766 3115.84082031 3126.47607422]\n",
      "9 day output [[3137.3403]]\n"
     ]
    }
   ],
   "source": [
    "outs = predict_next(test_data[0:10],10,10)"
   ]
  },
  {
   "cell_type": "code",
   "execution_count": 228,
   "metadata": {
    "colab": {
     "base_uri": "https://localhost:8080/"
    },
    "executionInfo": {
     "elapsed": 16,
     "status": "ok",
     "timestamp": 1624382946079,
     "user": {
      "displayName": "Samrat Sakha",
      "photoUrl": "https://lh3.googleusercontent.com/a-/AOh14Giiw1rlsPx9M4hxGcoo12T-By_nflI_OdqNAeft5w=s64",
      "userId": "03047842225086067672"
     },
     "user_tz": -330
    },
    "id": "ml0meSuPcLeH",
    "outputId": "a5b50f58-1e73-4a2b-9ff5-12e5bce7e799"
   },
   "outputs": [
    {
     "data": {
      "text/plain": [
       "[3120.9001,\n",
       " 3110.0732,\n",
       " 3103.834,\n",
       " 3110.8237,\n",
       " 3109.5251,\n",
       " 3116.0237,\n",
       " 3114.35,\n",
       " 3115.8408,\n",
       " 3126.476,\n",
       " 3137.3403]"
      ]
     },
     "execution_count": 228,
     "metadata": {
      "tags": []
     },
     "output_type": "execute_result"
    }
   ],
   "source": [
    "outs"
   ]
  },
  {
   "cell_type": "code",
   "execution_count": 229,
   "metadata": {
    "executionInfo": {
     "elapsed": 12,
     "status": "ok",
     "timestamp": 1624382946710,
     "user": {
      "displayName": "Samrat Sakha",
      "photoUrl": "https://lh3.googleusercontent.com/a-/AOh14Giiw1rlsPx9M4hxGcoo12T-By_nflI_OdqNAeft5w=s64",
      "userId": "03047842225086067672"
     },
     "user_tz": -330
    },
    "id": "AVN54aVydRc2"
   },
   "outputs": [],
   "source": [
    "lst_output = outs"
   ]
  },
  {
   "cell_type": "code",
   "execution_count": 230,
   "metadata": {
    "colab": {
     "base_uri": "https://localhost:8080/"
    },
    "executionInfo": {
     "elapsed": 12,
     "status": "ok",
     "timestamp": 1624382947495,
     "user": {
      "displayName": "Samrat Sakha",
      "photoUrl": "https://lh3.googleusercontent.com/a-/AOh14Giiw1rlsPx9M4hxGcoo12T-By_nflI_OdqNAeft5w=s64",
      "userId": "03047842225086067672"
     },
     "user_tz": -330
    },
    "id": "nHrSq1IKdwmL",
    "outputId": "3ec5f201-c55d-4d79-9ecf-4e2e42b8d53e"
   },
   "outputs": [
    {
     "data": {
      "text/plain": [
       "[3120.9001,\n",
       " 3110.0732,\n",
       " 3103.834,\n",
       " 3110.8237,\n",
       " 3109.5251,\n",
       " 3116.0237,\n",
       " 3114.35,\n",
       " 3115.8408,\n",
       " 3126.476,\n",
       " 3137.3403]"
      ]
     },
     "execution_count": 230,
     "metadata": {
      "tags": []
     },
     "output_type": "execute_result"
    }
   ],
   "source": [
    "lst_output"
   ]
  },
  {
   "cell_type": "code",
   "execution_count": 232,
   "metadata": {
    "colab": {
     "base_uri": "https://localhost:8080/"
    },
    "executionInfo": {
     "elapsed": 16,
     "status": "ok",
     "timestamp": 1624382948649,
     "user": {
      "displayName": "Samrat Sakha",
      "photoUrl": "https://lh3.googleusercontent.com/a-/AOh14Giiw1rlsPx9M4hxGcoo12T-By_nflI_OdqNAeft5w=s64",
      "userId": "03047842225086067672"
     },
     "user_tz": -330
    },
    "id": "h4YfW1i7eItP",
    "outputId": "58426400-4e4e-4179-cf83-fd62149a091e"
   },
   "outputs": [
    {
     "data": {
      "text/plain": [
       "(220, 20)"
      ]
     },
     "execution_count": 232,
     "metadata": {
      "tags": []
     },
     "output_type": "execute_result"
    }
   ],
   "source": [
    "len(train_data),len(test_data)"
   ]
  },
  {
   "cell_type": "code",
   "execution_count": 233,
   "metadata": {
    "executionInfo": {
     "elapsed": 12,
     "status": "ok",
     "timestamp": 1624382949385,
     "user": {
      "displayName": "Samrat Sakha",
      "photoUrl": "https://lh3.googleusercontent.com/a-/AOh14Giiw1rlsPx9M4hxGcoo12T-By_nflI_OdqNAeft5w=s64",
      "userId": "03047842225086067672"
     },
     "user_tz": -330
    },
    "id": "Ki1RbD_Kd10x"
   },
   "outputs": [],
   "source": [
    "day_new=np.arange(1,221)\n",
    "day_pred=np.arange(221,231)"
   ]
  },
  {
   "cell_type": "code",
   "execution_count": 234,
   "metadata": {
    "colab": {
     "base_uri": "https://localhost:8080/",
     "height": 287
    },
    "executionInfo": {
     "elapsed": 29,
     "status": "ok",
     "timestamp": 1624382950684,
     "user": {
      "displayName": "Samrat Sakha",
      "photoUrl": "https://lh3.googleusercontent.com/a-/AOh14Giiw1rlsPx9M4hxGcoo12T-By_nflI_OdqNAeft5w=s64",
      "userId": "03047842225086067672"
     },
     "user_tz": -330
    },
    "id": "GSrFWLnqd5OZ",
    "outputId": "7edbc50e-720c-490b-f40a-9a62cb9b0f4c"
   },
   "outputs": [
    {
     "data": {
      "text/plain": [
       "[<matplotlib.lines.Line2D at 0x7f499637d0d0>]"
      ]
     },
     "execution_count": 234,
     "metadata": {
      "tags": []
     },
     "output_type": "execute_result"
    },
    {
     "data": {
      "image/png": "[encoded data removed]",
      "text/plain": [
       "<Figure size 432x288 with 1 Axes>"
      ]
     },
     "metadata": {
      "needs_background": "light",
      "tags": []
     },
     "output_type": "display_data"
    }
   ],
   "source": [
    "plt.plot(day_new,timeseries_data)\n",
    "plt.plot(day_pred,lst_output)"
   ]
  },
  {
   "cell_type": "code",
   "execution_count": 235,
   "metadata": {
    "colab": {
     "base_uri": "https://localhost:8080/"
    },
    "executionInfo": {
     "elapsed": 612,
     "status": "ok",
     "timestamp": 1624382953113,
     "user": {
      "displayName": "Samrat Sakha",
      "photoUrl": "https://lh3.googleusercontent.com/a-/AOh14Giiw1rlsPx9M4hxGcoo12T-By_nflI_OdqNAeft5w=s64",
      "userId": "03047842225086067672"
     },
     "user_tz": -330
    },
    "id": "_wWU56mad7oY",
    "outputId": "68f39eb9-110f-49e1-9255-cdc996086ef3"
   },
   "outputs": [
    {
     "data": {
      "text/plain": [
       "[3120.9001,\n",
       " 3110.0732,\n",
       " 3103.834,\n",
       " 3110.8237,\n",
       " 3109.5251,\n",
       " 3116.0237,\n",
       " 3114.35,\n",
       " 3115.8408,\n",
       " 3126.476,\n",
       " 3137.3403]"
      ]
     },
     "execution_count": 235,
     "metadata": {
      "tags": []
     },
     "output_type": "execute_result"
    }
   ],
   "source": [
    "lst_output"
   ]
  },
  {
   "cell_type": "code",
   "execution_count": 236,
   "metadata": {
    "executionInfo": {
     "elapsed": 13,
     "status": "ok",
     "timestamp": 1624382953773,
     "user": {
      "displayName": "Samrat Sakha",
      "photoUrl": "https://lh3.googleusercontent.com/a-/AOh14Giiw1rlsPx9M4hxGcoo12T-By_nflI_OdqNAeft5w=s64",
      "userId": "03047842225086067672"
     },
     "user_tz": -330
    },
    "id": "8dY7r1Ome-Md"
   },
   "outputs": [],
   "source": [
    "compare = test_data[10:21]"
   ]
  },
  {
   "cell_type": "code",
   "execution_count": 237,
   "metadata": {
    "colab": {
     "base_uri": "https://localhost:8080/"
    },
    "executionInfo": {
     "elapsed": 34,
     "status": "ok",
     "timestamp": 1624382954556,
     "user": {
      "displayName": "Samrat Sakha",
      "photoUrl": "https://lh3.googleusercontent.com/a-/AOh14Giiw1rlsPx9M4hxGcoo12T-By_nflI_OdqNAeft5w=s64",
      "userId": "03047842225086067672"
     },
     "user_tz": -330
    },
    "id": "jFZuY5OXe_j6",
    "outputId": "77496a3d-5f0a-4c5b-8d29-0073bbb6fe32"
   },
   "outputs": [
    {
     "name": "stdout",
     "output_type": "stream",
     "text": [
      "Predicted amount is 3120.900146484375 and actual amount is 3092.0\n",
      "Predicted amount is 3110.0732421875 and actual amount is 3120.0\n",
      "Predicted amount is 3103.833984375 and actual amount is 3161.949951171875\n",
      "Predicted amount is 3110.82373046875 and actual amount is 3189.5\n",
      "Predicted amount is 3109.525146484375 and actual amount is 3150.0\n",
      "Predicted amount is 3116.023681640625 and actual amount is 3168.60009765625\n",
      "Predicted amount is 3114.35009765625 and actual amount is 3150.85009765625\n",
      "Predicted amount is 3115.8408203125 and actual amount is 3154.550048828125\n",
      "Predicted amount is 3126.47607421875 and actual amount is 3128.0\n",
      "Predicted amount is 3137.34033203125 and actual amount is 3145.0\n"
     ]
    }
   ],
   "source": [
    "error = []\n",
    "for i in range(len(lst_output)):\n",
    "  print('Predicted amount is {} and actual amount is {}'.format(lst_output[i],compare[i]))\n",
    "  error.append(abs(lst_output[i]-compare[i]))"
   ]
  },
  {
   "cell_type": "code",
   "execution_count": 238,
   "metadata": {
    "colab": {
     "base_uri": "https://localhost:8080/"
    },
    "executionInfo": {
     "elapsed": 14,
     "status": "ok",
     "timestamp": 1624382955245,
     "user": {
      "displayName": "Samrat Sakha",
      "photoUrl": "https://lh3.googleusercontent.com/a-/AOh14Giiw1rlsPx9M4hxGcoo12T-By_nflI_OdqNAeft5w=s64",
      "userId": "03047842225086067672"
     },
     "user_tz": -330
    },
    "id": "UXGo6nDmvM7j",
    "outputId": "cac7a804-25c6-4905-8e38-5b242bedb114"
   },
   "outputs": [
    {
     "data": {
      "text/plain": [
       "35.3063232421875"
      ]
     },
     "execution_count": 238,
     "metadata": {
      "tags": []
     },
     "output_type": "execute_result"
    }
   ],
   "source": [
    "err = np.array(error)\n",
    "np.mean(err)"
   ]
  },
  {
   "cell_type": "code",
   "execution_count": 239,
   "metadata": {
    "colab": {
     "base_uri": "https://localhost:8080/",
     "height": 285
    },
    "executionInfo": {
     "elapsed": 20,
     "status": "ok",
     "timestamp": 1624382957106,
     "user": {
      "displayName": "Samrat Sakha",
      "photoUrl": "https://lh3.googleusercontent.com/a-/AOh14Giiw1rlsPx9M4hxGcoo12T-By_nflI_OdqNAeft5w=s64",
      "userId": "03047842225086067672"
     },
     "user_tz": -330
    },
    "id": "hRyF39pyfZ2f",
    "outputId": "a9c57bb9-b87b-41f5-e703-2527f99a173a"
   },
   "outputs": [
    {
     "data": {
      "text/plain": [
       "[<matplotlib.lines.Line2D at 0x7f49963b0510>]"
      ]
     },
     "execution_count": 239,
     "metadata": {
      "tags": []
     },
     "output_type": "execute_result"
    },
    {
     "data": {
      "image/png": "[encoded data removed]",
      "text/plain": [
       "<Figure size 432x288 with 1 Axes>"
      ]
     },
     "metadata": {
      "needs_background": "light",
      "tags": []
     },
     "output_type": "display_data"
    }
   ],
   "source": [
    "day_new=np.arange(1,20)\n",
    "day_pred=np.arange(21,31)\n",
    "plt.plot(day_new,timeseries_data[201:221])\n",
    "plt.plot(day_pred,lst_output)"
   ]
  },
  {
   "cell_type": "code",
   "execution_count": 254,
   "metadata": {
    "colab": {
     "base_uri": "https://localhost:8080/",
     "height": 285
    },
    "executionInfo": {
     "elapsed": 667,
     "status": "ok",
     "timestamp": 1624383556778,
     "user": {
      "displayName": "Samrat Sakha",
      "photoUrl": "https://lh3.googleusercontent.com/a-/AOh14Giiw1rlsPx9M4hxGcoo12T-By_nflI_OdqNAeft5w=s64",
      "userId": "03047842225086067672"
     },
     "user_tz": -330
    },
    "id": "1t4UO-7GzVRr",
    "outputId": "2f74624c-64bf-44ed-e7b4-12d52bf05a0d"
   },
   "outputs": [
    {
     "data": {
      "text/plain": [
       "[<matplotlib.lines.Line2D at 0x7f49a222a2d0>]"
      ]
     },
     "execution_count": 254,
     "metadata": {
      "tags": []
     },
     "output_type": "execute_result"
    },
    {
     "data": {
      "image/png": "[encoded data removed]",
      "text/plain": [
       "<Figure size 432x288 with 1 Axes>"
      ]
     },
     "metadata": {
      "needs_background": "light",
      "tags": []
     },
     "output_type": "display_data"
    }
   ],
   "source": [
    "day_new=np.arange(1,31)\n",
    "plt.plot(day_new,data[201:231])"
   ]
  },
  {
   "cell_type": "code",
   "execution_count": 240,
   "metadata": {
    "executionInfo": {
     "elapsed": 466,
     "status": "ok",
     "timestamp": 1624383091873,
     "user": {
      "displayName": "Samrat Sakha",
      "photoUrl": "https://lh3.googleusercontent.com/a-/AOh14Giiw1rlsPx9M4hxGcoo12T-By_nflI_OdqNAeft5w=s64",
      "userId": "03047842225086067672"
     },
     "user_tz": -330
    },
    "id": "JGzhV1C1vs_2"
   },
   "outputs": [],
   "source": [
    "from keras.models import load_model\n",
    "model.save(\"TCS_Stocks.h5\")"
   ]
  },
  {
   "cell_type": "code",
   "execution_count": 241,
   "metadata": {
    "colab": {
     "base_uri": "https://localhost:8080/"
    },
    "executionInfo": {
     "elapsed": 29,
     "status": "ok",
     "timestamp": 1624383103318,
     "user": {
      "displayName": "Samrat Sakha",
      "photoUrl": "https://lh3.googleusercontent.com/a-/AOh14Giiw1rlsPx9M4hxGcoo12T-By_nflI_OdqNAeft5w=s64",
      "userId": "03047842225086067672"
     },
     "user_tz": -330
    },
    "id": "c1CwK7Ajxu8_",
    "outputId": "dcf2654c-e7b3-4d7c-f2dd-ee7450663640"
   },
   "outputs": [
    {
     "name": "stdout",
     "output_type": "stream",
     "text": [
      "WARNING:tensorflow:Layer lstm_4 will not use cuDNN kernels since it doesn't meet the criteria. It will use a generic GPU kernel as fallback when running on GPU.\n",
      "WARNING:tensorflow:Layer lstm_5 will not use cuDNN kernels since it doesn't meet the criteria. It will use a generic GPU kernel as fallback when running on GPU.\n"
     ]
    }
   ],
   "source": [
    "loaded_model = load_model(\"TCS_Stocks.h5\")"
   ]
  },
  {
   "cell_type": "code",
   "execution_count": null,
   "metadata": {
    "id": "ikwO5-T8xxx9"
   },
   "outputs": [],
   "source": []
  }
 ],
 "metadata": {
  "accelerator": "GPU",
  "colab": {
   "authorship_tag": "ABX9TyMKbs6nwzu2CyyIFbV5m/t1",
   "collapsed_sections": [],
   "mount_file_id": "18QRhSnOrK3N5iJz4Jdqv_CHsidKMkgfz",
   "name": "StocksUsingLSTM.ipynb",
   "provenance": []
  },
  "kernelspec": {
   "display_name": "Python 3",
   "language": "python",
   "name": "python3"
  },
  "language_info": {
   "codemirror_mode": {
    "name": "ipython",
    "version": 3
   },
   "file_extension": ".py",
   "mimetype": "text/x-python",
   "name": "python",
   "nbconvert_exporter": "python",
   "pygments_lexer": "ipython3",
   "version": "3.8.5"
  }
 },
 "nbformat": 4,
 "nbformat_minor": 1
}
